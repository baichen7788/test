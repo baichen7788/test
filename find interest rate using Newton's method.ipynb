{
 "cells": [
  {
   "cell_type": "code",
   "execution_count": 34,
   "metadata": {},
   "outputs": [],
   "source": [
    "# define function of interest rate ( pmt is monthly, lumpsum is fv, r is initial guess of IR,period is monly basis)\n",
    "def f(pmt,lumpsum,r,period):  #r is initial guess\n",
    "    s=0\n",
    "    for i in range (1,period+1):\n",
    "        s+=pmt*(1+r)**i\n",
    "    return s-lumpsum"
   ]
  },
  {
   "cell_type": "code",
   "execution_count": 35,
   "metadata": {},
   "outputs": [],
   "source": [
    "#1st derivative of f\n",
    "def df(pmt,r,period):\n",
    "    s=0\n",
    "    for i in range(period):\n",
    "        s+=pmt*(i)*(1+r)**(i-1)\n",
    "    return s"
   ]
  },
  {
   "cell_type": "code",
   "execution_count": 48,
   "metadata": {},
   "outputs": [
    {
     "name": "stdout",
     "output_type": "stream",
     "text": [
      "interest rate r \t interest rate r(new)\n",
      "0.00000000 \t\t  0.02649930\n",
      "0.02649930 \t\t  0.02152945\n",
      "0.02152945 \t\t  0.01683751\n",
      "0.01683751 \t\t  0.01294238\n",
      "0.01294238 \t\t  0.01064113\n",
      "0.01064113 \t\t  0.01003111\n",
      "0.01003111 \t\t  0.01000488\n"
     ]
    },
    {
     "data": {
      "text/plain": [
       "0.010005246977700786"
      ]
     },
     "execution_count": 48,
     "metadata": {},
     "output_type": "execute_result"
    }
   ],
   "source": [
    "#Using Newton's method doing iterations\n",
    "pmt=250\n",
    "lumpsum=250000\n",
    "period=20*12\n",
    "n=10000000000\n",
    "r=0.000000001\n",
    "print('interest rate r \\t interest rate r(new)')\n",
    "for iteration in range(1,n+1):\n",
    "    rnew=r-f(pmt,lumpsum,r,period)/df(pmt,r,period)\n",
    "    if abs(rnew-r)<10e-6:\n",
    "        break\n",
    "    print('{:.8f} \\t\\t  {:.8f}'.format(r,rnew))\n",
    "    r=rnew\n",
    "rnew"
   ]
  },
  {
   "cell_type": "code",
   "execution_count": null,
   "metadata": {},
   "outputs": [],
   "source": []
  }
 ],
 "metadata": {
  "kernelspec": {
   "display_name": "Python 3",
   "language": "python",
   "name": "python3"
  },
  "language_info": {
   "codemirror_mode": {
    "name": "ipython",
    "version": 3
   },
   "file_extension": ".py",
   "mimetype": "text/x-python",
   "name": "python",
   "nbconvert_exporter": "python",
   "pygments_lexer": "ipython3",
   "version": "3.7.0"
  }
 },
 "nbformat": 4,
 "nbformat_minor": 2
}
