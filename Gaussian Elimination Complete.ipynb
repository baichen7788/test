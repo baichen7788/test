{
 "cells": [
  {
   "cell_type": "code",
   "execution_count": 21,
   "metadata": {},
   "outputs": [
    {
     "data": {
      "text/plain": [
       "array([[ 2.00000000e+00,  3.00000000e+00,  4.00000000e+00,\n",
       "         1.00000000e+00,  7.00000000e+00,  7.00000000e+00],\n",
       "       [ 0.00000000e+00,  7.00000000e+00, -1.00000000e+00,\n",
       "         3.00000000e+00,  1.00000000e+00,  5.00000000e+00],\n",
       "       [ 0.00000000e+00,  0.00000000e+00, -1.30000000e+01,\n",
       "         2.00000000e+00, -2.10000000e+01, -1.40000000e+01],\n",
       "       [ 0.00000000e+00,  0.00000000e+00,  0.00000000e+00,\n",
       "         2.81250000e+00,  5.81250000e+00,  6.25000000e-01],\n",
       "       [ 0.00000000e+00,  4.38838155e-17,  0.00000000e+00,\n",
       "        -4.44089210e-16,  4.95734797e+00,  1.53716216e-01]])"
      ]
     },
     "execution_count": 21,
     "metadata": {},
     "output_type": "execute_result"
    }
   ],
   "source": [
    "import numpy as np\n",
    "m=np.array([[0,7,-1,3,1,5],\n",
    "           [2,3,4,1,7,7],\n",
    "           [6,2,0,2,-1,2],\n",
    "           [2,1,2,0,2,3],\n",
    "           [3,4,1,-2,1,4]],float)\n",
    "#Elimination matrix\n",
    "i=0\n",
    "while i<len(m)-1:\n",
    "    if m[i,i]==0:\n",
    "        for j in range(len(m)+1):\n",
    "            m[i,j],m[i+1,j]=m[i+1,j],m[i,j]\n",
    "    for j in range(i+1,len(m)):\n",
    "        if m[j,i] ==0 : continue\n",
    "        factor=m[i,i]/m[j,i]\n",
    "        m[j]=factor*m[j]\n",
    "        m[j]=m[i]-m[j]\n",
    "    i+=1\n",
    "m"
   ]
  },
  {
   "cell_type": "code",
   "execution_count": 22,
   "metadata": {},
   "outputs": [
    {
     "data": {
      "text/plain": [
       "array([0.02170543, 0.79224806, 1.05116279, 0.15813953, 0.03100775])"
      ]
     },
     "execution_count": 22,
     "metadata": {},
     "output_type": "execute_result"
    }
   ],
   "source": [
    "a=m[:len(m),:len(m)]\n",
    "b=m[:,-1]\n",
    "n=len(m)\n",
    "x=np.zeros(len(m),float)\n",
    "x[n-1]=b[n-1]/a[n-1,n-1]     #compute 1st x \n",
    "\n",
    "#Back-substitition\n",
    "n=len(m)\n",
    "x=np.zeros(len(m),float)\n",
    "x[n-1]=b[n-1]/a[n-1,n-1]     #compute 1st x \n",
    "for i in range(n-2,-1,-1):\n",
    "    term=0\n",
    "    for j in range(i+1,n):\n",
    "        term+=a[i,j]*x[j]\n",
    "    x[i]=(b[i]-term)/a[i,i]\n",
    "x"
   ]
  },
  {
   "cell_type": "code",
   "execution_count": null,
   "metadata": {},
   "outputs": [],
   "source": []
  },
  {
   "cell_type": "code",
   "execution_count": null,
   "metadata": {},
   "outputs": [],
   "source": []
  }
 ],
 "metadata": {
  "kernelspec": {
   "display_name": "Python 3",
   "language": "python",
   "name": "python3"
  },
  "language_info": {
   "codemirror_mode": {
    "name": "ipython",
    "version": 3
   },
   "file_extension": ".py",
   "mimetype": "text/x-python",
   "name": "python",
   "nbconvert_exporter": "python",
   "pygments_lexer": "ipython3",
   "version": "3.6.5"
  }
 },
 "nbformat": 4,
 "nbformat_minor": 2
}
